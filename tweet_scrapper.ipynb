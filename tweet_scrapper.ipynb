{
 "cells": [
  {
   "cell_type": "code",
   "execution_count": 1,
   "metadata": {},
   "outputs": [],
   "source": [
    "import GetOldTweets3 as got\n",
    "import numpy as np\n",
    "import pandas as pd"
   ]
  },
  {
   "cell_type": "code",
   "execution_count": 2,
   "metadata": {},
   "outputs": [],
   "source": [
    "df=pd.DataFrame(columns=[\"id\",\"username\",\"tweet\",\"date\",\"retweets\"])"
   ]
  },
  {
   "cell_type": "code",
   "execution_count": 3,
   "metadata": {},
   "outputs": [],
   "source": [
    "arr=['depress','sad','suicid','anxiety','helpless','lonel','unhapp','insomnia','paranoi'] "
   ]
  },
  {
   "cell_type": "code",
   "execution_count": 5,
   "metadata": {},
   "outputs": [],
   "source": [
    "for k in arr:\n",
    "    tweetCriteria =  got.manager.TweetCriteria().setQuerySearch(k).setMaxTweets(200)\n",
    "    tweet = got.manager.TweetManager.getTweets(tweetCriteria)[:]\n",
    "    d=[]\n",
    "    for i in tweet:\n",
    "         d.append(\n",
    "            {\n",
    "                'id': i.id,\n",
    "                'username': i.username,\n",
    "                'tweet':  i.text,\n",
    "                'date': i.date,\n",
    "                'retweets': i.retweets\n",
    "            }\n",
    "        )\n",
    "    temp=pd.DataFrame(d)\n",
    "    df=pd.concat([df,temp])"
   ]
  },
  {
   "cell_type": "markdown",
   "metadata": {},
   "source": [
    "* We need to add positive tweets as well because a dataset comprising of negetive tweets only will create a bias.\n",
    "* As a result of the bias, our model might wrongly classify a positive tweet as negetive."
   ]
  },
  {
   "cell_type": "code",
   "execution_count": 6,
   "metadata": {},
   "outputs": [],
   "source": [
    "arr=['happ','glad','content'] "
   ]
  },
  {
   "cell_type": "code",
   "execution_count": 7,
   "metadata": {},
   "outputs": [],
   "source": [
    "for k in arr:\n",
    "    tweetCriteria =  got.manager.TweetCriteria().setQuerySearch(k).setMaxTweets(200)\n",
    "    tweet = got.manager.TweetManager.getTweets(tweetCriteria)[:]\n",
    "    d=[]\n",
    "    for i in tweet:\n",
    "         d.append(\n",
    "            {\n",
    "                'id': i.id,\n",
    "                'username': i.username,\n",
    "                'tweet':  i.text,\n",
    "                'date': i.date,\n",
    "                'retweets': i.retweets\n",
    "            }\n",
    "        )\n",
    "    temp=pd.DataFrame(d)\n",
    "    df=pd.concat([df,temp])"
   ]
  },
  {
   "cell_type": "code",
   "execution_count": 8,
   "metadata": {},
   "outputs": [
    {
     "name": "stdout",
     "output_type": "stream",
     "text": [
      "<class 'pandas.core.frame.DataFrame'>\n",
      "Int64Index: 2541 entries, 0 to 199\n",
      "Data columns (total 5 columns):\n",
      " #   Column    Non-Null Count  Dtype \n",
      "---  ------    --------------  ----- \n",
      " 0   id        2541 non-null   object\n",
      " 1   username  2541 non-null   object\n",
      " 2   tweet     2541 non-null   object\n",
      " 3   date      2541 non-null   object\n",
      " 4   retweets  2541 non-null   object\n",
      "dtypes: object(5)\n",
      "memory usage: 119.1+ KB\n"
     ]
    }
   ],
   "source": [
    "df.info()"
   ]
  },
  {
   "cell_type": "code",
   "execution_count": 9,
   "metadata": {},
   "outputs": [
    {
     "name": "stdout",
     "output_type": "stream",
     "text": [
      "2541\n",
      "2258\n"
     ]
    }
   ],
   "source": [
    "print(len(df))\n",
    "print(len(df.drop_duplicates()))"
   ]
  },
  {
   "cell_type": "code",
   "execution_count": 10,
   "metadata": {},
   "outputs": [
    {
     "data": {
      "text/plain": [
       "2258"
      ]
     },
     "execution_count": 10,
     "metadata": {},
     "output_type": "execute_result"
    }
   ],
   "source": [
    "df=df.drop_duplicates()\n",
    "len(df)"
   ]
  },
  {
   "cell_type": "code",
   "execution_count": 11,
   "metadata": {},
   "outputs": [],
   "source": [
    "df.to_csv('tweets.csv', index = False, header=True)"
   ]
  },
  {
   "cell_type": "code",
   "execution_count": null,
   "metadata": {},
   "outputs": [],
   "source": []
  }
 ],
 "metadata": {
  "kernelspec": {
   "display_name": "Python 3",
   "language": "python",
   "name": "python3"
  },
  "language_info": {
   "codemirror_mode": {
    "name": "ipython",
    "version": 3
   },
   "file_extension": ".py",
   "mimetype": "text/x-python",
   "name": "python",
   "nbconvert_exporter": "python",
   "pygments_lexer": "ipython3",
   "version": "3.7.6"
  }
 },
 "nbformat": 4,
 "nbformat_minor": 4
}
